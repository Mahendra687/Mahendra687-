{
 "cells": [
  {
   "cell_type": "markdown",
   "id": "fb23a5bd",
   "metadata": {},
   "source": [
    "#### Mahendra Pratap Singh <img align=\"right\" width=\"105\" height=\"105\" src=\"https://avatars.githubusercontent.com/u/55095422?v=4\">\n",
    ">  **Address:** O Block 117/178 Geeta Nagar, Kanpur, U.P 208024.  \n",
    ">  **Tel:** 7905308265 | **Email:** mahendras948@gmail.com | \n",
    "[GitHub](https://github.com/Mahendra687)\n",
    "__________________________________________________________________________________________________________________"
   ]
  },
  {
   "cell_type": "markdown",
   "id": "d69fac89",
   "metadata": {},
   "source": [
    "### Educations \n",
    "> * **Post Graduate Diploma** in Biological Data Analytics | School of Computational and Integrative Sciences, JNU | New Delhi, India | July 2019-Aug 2020 with CGPA: 7.32\n",
    "> * **Master of Science** in Bioinformatics | University Institute of Engineering and Technology, CSJM University Kanpur | U.P India  | July 2016-June 2018 with CGPA: 7.40\n",
    "> * **Bachelor of Science (H)** in Biotech., School of Life Sciences and Technology, AKS University Satna | M.P India | July 2012-June 2015. with CGPA: 6.36"
   ]
  },
  {
   "cell_type": "markdown",
   "id": "0e72c071",
   "metadata": {},
   "source": [
    "### Certifications Training\n",
    "> * Image Analysis Methods for Biologists from The Univerisity of Nottingham, Feb 2022\n",
    "> * AI for Healthcare from The University of Manchester Jan 2022\n",
    "> * The Power of Data in Health Care from University of Strathclyde, Jan 2022\n",
    "> * Applied Data Science from Institute of Coding Feb 2021\n",
    "> * Bioinformatics for Biologist from Wellcome Genome Campus, Feb 2021\n",
    "> * Metabolomics from the University of Birmingham, Oct 2019\n",
    "> * Descriptive Statistics with R Software from the NPTEL, Feb 2019\n",
    "> * Next-Generation Sequencing from St George's, University of London, Dec 2018\n",
    "> * Bioinformatics: algorithm and applications from NPTEL – IIT Madras, Jan 2018\n",
    "> * Clinical Bioinformatics from The University Of Manchester, Oct 2018\n",
    "> * Learn to Code for Data Analysis from The Open University, Nov 2018"
   ]
  },
  {
   "cell_type": "markdown",
   "id": "d15f5533",
   "metadata": {},
   "source": [
    "### Summer  School\n",
    "> * 30 days Machine Learning course from Kaggle, Aug 2021\n",
    "> * Data Science Summer School from Hertie School Data Science Lab, Berlin, Germany Jul 2021\n",
    "> * Summer Data Science Boot Camp from Consulting and Analytics Club, IIT Guwahati, India Jun 2021\n",
    "> * Summer training on Machine Learning & Data Science With Python from Goeduhub, India May 2021"
   ]
  },
  {
   "cell_type": "markdown",
   "id": "0cce22cc",
   "metadata": {},
   "source": [
    "### Workshops \n",
    "> * New generation of biomarkers: miRNA and machine learning models from NGSchool Aug 2021\n",
    "> * Next-Generation Sequencing Data Analysis from NGC-CDFD, Hyderabad June 2021\n",
    "> * Omics Data Analysis from JIIT, Noida, April 2021\n",
    "> * AI in Drug Discovery from Imperial College Computational Biology Society Feb 2021\n",
    "> * Indo-German Spring School on Algorithms for Big Data, Feb 2020\n",
    "> * Data Science using R from IIIT New Delhi, Dec 2018\n",
    "> * Translational Bioinformatics from JMIU New Delhi, Mar 2017\n",
    "> * Bioinformatics And Data Mining from NIPGR New Delhi, Feb 2017\n",
    "__________________________________________________________________________________________________________________"
   ]
  },
  {
   "cell_type": "markdown",
   "id": "04919a83",
   "metadata": {},
   "source": [
    "### Experiences\n",
    "* **Thesis Projects on:**\n",
    "\n",
    "> * The Third project was titled **\"Sequence and Evolutionary Analysis Of miR2118 and miR2275 in Sorghum\",** a Postgraduate Diploma dissertation supervised by Professor Rita Sharma at SCIS, JNU. In this study, my main focus is on two microRNAs [precursors and mature]; miR2118 and miR2275 to understand their variations, evolutionary origin and phylogenetics distribution using computational approaches.\n",
    "This project taught me a lot about the biogenesis and function of microRNA and designing a pipeline; to extract the reference miRNA datasets from the databases: miRbase Release 22.1, and Sorghum genome as a target from Phytozome v12.1, and written a script for extracting the Sorghum miRNA from the reference data using Python-based on BLAST statistics and performed MSA: ClustalW for analysing the variations in various plant species, and constructed a Phylogenetic tree using PHYLIP command line suit and also generated consensus sequences using WebLogo to construct sequence profile.**In conclusion:** These findings indicate that some precursors and mature miRNAs are conserved in sorghum bicolour and share a close evolutionary pattern with their well-studied reference species of  miR2118 and miR2275 across the grass plants. And they might have the same function and biogenesis for the synthesis of phasiRNAs. And in future, I might work to map the regulatory network for the phasiRNAs in the Sorghum genome.\n",
    "\n",
    "> * I started the second project titled \"Comparative Study Of Triticum Urartu Genome\", a master thesis supervised by Er. Mamta Sagar at UIET, CSJM University. In this project, I started to read papers related to Triticum urartu to figure out software and databases for my study and I developed a pipeline to analyse the various genomic features such as open reading frame, exon-intron, promoter, enhancer, and TATA box regions, functional motif, protein binding sites, and regulations sites. In Conclusion: These findings give me an idea to design the genome of the Triticum urartu and in future, I might construct a Network model for the genome of Triticum urartu which leads to the next level of genomics study for the improvement of wheat.\n",
    "\n",
    "> * During graduation, the first thesis project was titled: **“Understanding Lung Cancer Using Bioinformatics\"** supervised Dr Mukesh Kumar Awasthi at AKS University, This short term study taught me a lot about experiment designing, bioinformatics databases: EMBL, GenBank, DDBJ, Uniprot and PDB and their importance in biological research and also learnt how to access data from biological databases, their various file formats; FASTA, GenBank, ENA-EMBL, and DDBJ, and tools like BLAST and Expasy. Apart from these, reading scientific papers from PubMed gave an insight into cancer. In Conclusion: I got to know about different types of cancer, and the causing factors inside the cell, which genes-proteins are responsible for lung cancer and their functions and target sites using computational approaches.\n",
    "\n",
    "> * As an intern, I worked briefly on titled: **“BetaCoronavirus Genotyping for Armenian WGS isolates\"** under the guidance   of Mr. Praharshit Sharma, Bioinformatics Specialist, at NCDC, New Delhi.\n",
    "In this study, My goal is to analyze the BetaCoronavirus genome and its Genotyping pattern concerning SARS-Cov 2. **In Conclusion,** the analysis leads to the conclusion that there are 6 Mutations: 5Transitions and 1 Transversion [4-C>T, 1-A>G and 1-G>T] Observed as of April-2021 and task was extrapolated to 48 Armenian WGS, Whole Genome Sequence isolates to map them to HGVS (Human Genome Variation Society) Protein level mutations and cross-validate with PANGOLIN (Phylogenetic Assignment of Named Global Outbreak Lineages).\n",
    "Note: The following study has been cited here please follow the [DOI Link ](https://zenodo.org/record/5825996#.Yd8gOoRBze0)\n",
    "\n",
    "\n",
    "* **Flipkart-Noida, India | Data Curator 08/2018 - 05/2019:**\n",
    "\n",
    "> * Generated shipment invoices, prepared packages and set up courier deliveries for customers and delivered an exceptional level of service to each customer by listening their concerns and answering questions.\n",
    "\n",
    "* **Be selfless-Noida-Volunteer Part-Time Caretaker 09/ 2015- 05/ 2016:** \n",
    "\n",
    "> * Taking care of non-parents children, understanding the needs of the individual child’s, Tune in to the child and empathize with them, Talk to the children and encourage them and Every weekend organising days out and activities for children.\n",
    "\n",
    "* **Subject matter expert** in Biology Part-time- 06/ 2020 - present at Chegg India.\n",
    "__________________________________________________________________________________________________________________"
   ]
  },
  {
   "cell_type": "markdown",
   "id": "74465351",
   "metadata": {},
   "source": [
    "### National examinations:\n",
    "> * JNUEE M.Tech./PGD-2019 Rank: 02 | Reg No: 1611000144\n",
    "> * ICAR-JRF/SRF-2020 Bioinformatics Rank: 37 | Roll No: MP13000207"
   ]
  },
  {
   "cell_type": "markdown",
   "id": "35a15441",
   "metadata": {},
   "source": [
    "\n",
    "\n",
    "### Skills\n",
    "\n",
    "**Data science skills**\n",
    "\n",
    "> * Throughout the course assignments and hands-on sessions, I have developed a working knowledge of Python/R by       performing feature engineering and exploratory data analysis including plotting and visualising datasets. And     Implemented various ML algorithms using WHO and Kaggle datasets.\n",
    "> * During lab classes familiar with Operating systems: Linux: Ubuntu 20.04. And aware of various bioinformatics       databases, command line based tools, and modules.\n",
    "> * Experienced in analyzing genomics and transcriptomics data by taking lab assignments.\n",
    "\n",
    "**Communication**\n",
    "\n",
    "> * My communication skills developed through regular classes, volunteering, presenting posters, participating in various workshops and joining online courses.\n",
    "\n",
    "**Interests-Activities**\n",
    "> * Participated in various Summer Data Science Boot Camps.  \n",
    "> * During my masters, I presented a poster on Sequencing Technologies at AKSU Satna.\n",
    "> * Student representatives during master regularly attended committee meetings in the departments.\n",
    "> * Learning STEM through MOOC is a kind of passion and for the past two years, I have completed various certificate courses.\n",
    "> * I like to play cricket, walk in the morning, read scientific papers and for mindfulness meditate myself.\n",
    "\n",
    "**Leadership and Teamwork** \n",
    "> * As a captain of the university cricket team, organize regular fixtures and select the team, identify the strengths of individuals and run training twice a week to develop, support and motivate players.\n",
    "__________________________________________________________________________________________________________________\n",
    "\n",
    "### References  \n",
    "\n",
    "> * **Prof. Rita Sharma:** Professor, and Thesis Supervisor, Department of Biological Sciences, Birla Institute of Technology and Science, Pilani, Rajasthan,India.**Email:** rita.genomics@gmail.com   **Tel:** +919958312717\n",
    "> * **Prof. Shandar Ahmad**, Professor, SCIS-JNU New Delhi, India. **Email:** shandar@jnu.ac.in **Tel:** +917290889021 \n",
    "> * **Mr. Praharshit Sharma**, Founder, CXO, MD - BioinformaticSharma, Member, International Society for Computational Biology, Bioinformatics Specialist, at NCDC, New Delhi, India.**Email:** sharmaji@iscb.org **Tel:** +91 799 515 8734\n",
    "                                                               _._   😷 | 🪴 🏃‍♂️ 🍃 🏋️‍ ⛹️‍ 🧘‍ 🎧 | 🎯 🖥️ 🧬 🦠 🧫 🧪 📊 |🕉️ "
   ]
  }
 ],
 "metadata": {
  "kernelspec": {
   "display_name": "Python 3 (ipykernel)",
   "language": "python",
   "name": "python3"
  },
  "language_info": {
   "codemirror_mode": {
    "name": "ipython",
    "version": 3
   },
   "file_extension": ".py",
   "mimetype": "text/x-python",
   "name": "python",
   "nbconvert_exporter": "python",
   "pygments_lexer": "ipython3",
   "version": "3.9.7"
  }
 },
 "nbformat": 4,
 "nbformat_minor": 5
}
